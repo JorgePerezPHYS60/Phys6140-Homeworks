{
  "cells": [
    {
      "cell_type": "code",
      "execution_count": 57,
      "id": "4864aa52",
      "metadata": {
        "id": "4864aa52"
      },
      "outputs": [],
      "source": [
        "import numpy as np\n",
        "import matplotlib.pyplot as plt\n",
        "from scipy.optimize import curve_fit"
      ]
    },
    {
      "cell_type": "code",
      "execution_count": 58,
      "id": "ed21aa7e",
      "metadata": {
        "id": "ed21aa7e"
      },
      "outputs": [],
      "source": [
        "# Fiducial Values\n",
        "I = 25\n",
        "B = 4\n",
        "r0 = 3\n",
        "\n",
        "#model\n",
        "def Gal(r, I, r0, B):\n",
        "  return I*np.exp(-r/r0) + B\n",
        "#derivatives\n",
        "def dGaldI(r, r0):\n",
        "  return np.exp(-r/r0)\n",
        "def dGaldr0(r, I, r0):\n",
        "  return I*np.exp(-r/r0)*r*r0**(-2)\n",
        "def dGaldb(): #for completenes!\n",
        "  return 1\n",
        "\n"
      ]
    },
    {
      "cell_type": "code",
      "source": [
        "#meassurement points\n",
        "rvals = np.asarray([0, r0, 2*r0])\n",
        "sigmavals = np.sqrt(Gal(rvals, I, r0, B))"
      ],
      "metadata": {
        "id": "3GPFltSAZkDs"
      },
      "id": "3GPFltSAZkDs",
      "execution_count": 59,
      "outputs": []
    },
    {
      "cell_type": "code",
      "source": [
        "npar = 3\n",
        "\n",
        "F = np.zeros([npar,npar])\n",
        "for r, sigma in zip(rvals, sigmavals):\n",
        "  for i in range(npar):\n",
        "    if i==0:\n",
        "      dfdpi = dGaldI(r,r0)\n",
        "    elif i==1:\n",
        "      dfdpi = dGaldr0(r, I, r0)\n",
        "    else:\n",
        "      dfdpi = 1\n",
        "    for j in range(npar):\n",
        "      if j==0:\n",
        "        dfdpj = dGaldI(r,r0)\n",
        "      elif j==1:\n",
        "        dfdpj = dGaldr0(r, I, r0)\n",
        "      else:\n",
        "        dfdpj = 1\n",
        "      F[i,j] += (1/sigma**2)*dfdpi*dfdpj\n",
        "\n",
        "print(F)\n",
        "print(np.linalg.inv(F))"
      ],
      "metadata": {
        "colab": {
          "base_uri": "https://localhost:8080/"
        },
        "id": "-qp8Vupxc8ny",
        "outputId": "795944ab-6e70-4316-cbd5-60c3370d4fa7"
      },
      "id": "-qp8Vupxc8ny",
      "execution_count": 60,
      "outputs": [
        {
          "output_type": "stream",
          "name": "stdout",
          "text": [
            "[[0.04721843 0.12680274 0.08068849]\n",
            " [0.12680274 1.40122519 0.5377954 ]\n",
            " [0.08068849 0.5377954  0.24569692]]\n",
            "[[103.67152913  23.04733775 -84.49373886]\n",
            " [ 23.04733775   9.58661067 -28.55261669]\n",
            " [-84.49373886 -28.55261669  94.31594859]]\n"
          ]
        }
      ]
    },
    {
      "cell_type": "code",
      "source": [
        "#comparing with scipy optimize\n",
        "rdata = rvals\n",
        "ydata = Gal(rdata, I, r0, B)\n",
        "rdata_plot = np.arange(0,25)\n",
        "popt, pcov = curve_fit(Gal, rdata, ydata,\n",
        "                       sigma = sigmavals,\n",
        "                       absolute_sigma = True,\n",
        "                       bounds = ([1,1,1],[50,10,10]))\n",
        "plt.plot(rdata, ydata, 's', label = 'data')\n",
        "plt.plot(rdata_plot,\n",
        "         Gal(rdata_plot,I, r0, B))\n",
        "plt.xlabel('r')\n",
        "plt.ylabel('f(r)')\n",
        "\n",
        "print(pcov)\n",
        "print(np.mat(F).I)\n"
      ],
      "metadata": {
        "colab": {
          "base_uri": "https://localhost:8080/",
          "height": 558
        },
        "id": "6KTWZlwihYzL",
        "outputId": "cf116693-6f7f-47c5-adc8-6958fb7e18da"
      },
      "id": "6KTWZlwihYzL",
      "execution_count": 62,
      "outputs": [
        {
          "output_type": "stream",
          "name": "stdout",
          "text": [
            "[[103.67153225  23.04733889 -84.49374213]\n",
            " [ 23.04733889   9.58661108 -28.55261788]\n",
            " [-84.49374213 -28.55261788  94.315952  ]]\n",
            "[[103.67152913  23.04733775 -84.49373886]\n",
            " [ 23.04733775   9.58661067 -28.55261669]\n",
            " [-84.49373886 -28.55261669  94.31594859]]\n"
          ]
        },
        {
          "output_type": "display_data",
          "data": {
            "text/plain": [
              "<Figure size 640x480 with 1 Axes>"
            ],
            "image/png": "[encoded data removed]"
          },
          "metadata": {}
        }
      ]
    },
    {
      "cell_type": "code",
      "source": [
        "#testing putting priors on b of varying sizes\n",
        "prior_B = (1/sigmavals[2]**2)*np.array([10**x for x in range(0,9,1)])*10**(-4)\n",
        "#prior_B = (1/sigmavals[2]**2)*np.arange(0,10,0.1)\n",
        "Fs_w_prior = []\n",
        "for prior in prior_B:\n",
        "  npar = 3\n",
        "  F = np.zeros([npar,npar])\n",
        "  for r, sigma in zip(rvals, sigmavals):\n",
        "    for i in range(npar):\n",
        "      if i==0:\n",
        "        dfdpi = dGaldI(r,r0)\n",
        "      elif i==1:\n",
        "        dfdpi = dGaldr0(r, I, r0)\n",
        "      else:\n",
        "        dfdpi = 1\n",
        "      for j in range(npar):\n",
        "        if j==0:\n",
        "          dfdpj = dGaldI(r,r0)\n",
        "        elif j==1:\n",
        "          dfdpj = dGaldr0(r, I, r0)\n",
        "        else:\n",
        "          dfdpj = 1\n",
        "        F[i,j] += (1/sigma**2)*dfdpi*dfdpj\n",
        "  F[2,2] += 1/prior**2\n",
        "  Fs_w_prior.append(F)"
      ],
      "metadata": {
        "id": "pdL4F0BPjjWz"
      },
      "id": "pdL4F0BPjjWz",
      "execution_count": 171,
      "outputs": []
    },
    {
      "cell_type": "code",
      "source": [
        "#plotting\n",
        "x_vals = [i for i in range(len(Fs_w_prior))]\n",
        "I_VarWPrior = [(np.mat(Fs_w_prior[i]).I)[0,0]/I**2 for i in x_vals]\n",
        "r0_VarWPrior = [(np.mat(Fs_w_prior[i]).I)[1,1]/r0**2 for i in x_vals]\n",
        "\n",
        "plt.plot(x_vals, I_VarWPrior, label = 'I')\n",
        "plt.xlabel('Prior')\n",
        "plt.ylabel('Var(I)')\n",
        "plt.plot(x_vals, r0_VarWPrior, label = 'r0')\n",
        "plt.xlabel('Prior')\n",
        "plt.ylabel('Variance/param^2')\n",
        "plt.legend()\n"
      ],
      "metadata": {
        "colab": {
          "base_uri": "https://localhost:8080/",
          "height": 467
        },
        "id": "B8qk9bI6oGmO",
        "outputId": "adf6b16d-fb68-4079-fedb-a1fe748ff7ef"
      },
      "id": "B8qk9bI6oGmO",
      "execution_count": 174,
      "outputs": [
        {
          "output_type": "execute_result",
          "data": {
            "text/plain": [
              "<matplotlib.legend.Legend at 0x7f03732225f0>"
            ]
          },
          "metadata": {},
          "execution_count": 174
        },
        {
          "output_type": "display_data",
          "data": {
            "text/plain": [
              "<Figure size 640x480 with 1 Axes>"
            ],
            "image/png": "[encoded data removed]"
          },
          "metadata": {}
        }
      ]
    },
    {
      "cell_type": "code",
      "source": [
        "\n",
        "(np.mat(Fs_w_prior[0]).I)[0,0]\n"
      ],
      "metadata": {
        "colab": {
          "base_uri": "https://localhost:8080/"
        },
        "id": "vM59JzIZq37A",
        "outputId": "720059b9-8b80-444d-dd63-145ea9243b08"
      },
      "id": "vM59JzIZq37A",
      "execution_count": 149,
      "outputs": [
        {
          "output_type": "execute_result",
          "data": {
            "text/plain": [
              "27.97709978575917"
            ]
          },
          "metadata": {},
          "execution_count": 149
        }
      ]
    },
    {
      "cell_type": "code",
      "source": [],
      "metadata": {
        "colab": {
          "base_uri": "https://localhost:8080/"
        },
        "id": "J8FZ9LXFt4Tq",
        "outputId": "f2981f49-de61-4fcb-88f3-bccd9e010391"
      },
      "id": "J8FZ9LXFt4Tq",
      "execution_count": 168,
      "outputs": [
        {
          "output_type": "execute_result",
          "data": {
            "text/plain": [
              "array([0.        , 0.01354393, 0.02708786, 0.04063179, 0.05417571,\n",
              "       0.06771964, 0.08126357, 0.0948075 , 0.10835143, 0.12189536,\n",
              "       0.13543929, 0.14898322, 0.16252714, 0.17607107, 0.189615  ,\n",
              "       0.20315893, 0.21670286, 0.23024679, 0.24379072, 0.25733464,\n",
              "       0.27087857, 0.2844225 , 0.29796643, 0.31151036, 0.32505429,\n",
              "       0.33859822, 0.35214214, 0.36568607, 0.37923   , 0.39277393,\n",
              "       0.40631786, 0.41986179, 0.43340572, 0.44694965, 0.46049357,\n",
              "       0.4740375 , 0.48758143, 0.50112536, 0.51466929, 0.52821322,\n",
              "       0.54175715, 0.55530107, 0.568845  , 0.58238893, 0.59593286,\n",
              "       0.60947679, 0.62302072, 0.63656465, 0.65010857, 0.6636525 ,\n",
              "       0.67719643, 0.69074036, 0.70428429, 0.71782822, 0.73137215,\n",
              "       0.74491608, 0.75846   , 0.77200393, 0.78554786, 0.79909179,\n",
              "       0.81263572, 0.82617965, 0.83972358, 0.8532675 , 0.86681143,\n",
              "       0.88035536, 0.89389929, 0.90744322, 0.92098715, 0.93453108,\n",
              "       0.948075  , 0.96161893, 0.97516286, 0.98870679, 1.00225072,\n",
              "       1.01579465, 1.02933858, 1.04288251, 1.05642643, 1.06997036,\n",
              "       1.08351429, 1.09705822, 1.11060215, 1.12414608, 1.13769001,\n",
              "       1.15123393, 1.16477786, 1.17832179, 1.19186572, 1.20540965,\n",
              "       1.21895358, 1.23249751, 1.24604143, 1.25958536, 1.27312929,\n",
              "       1.28667322, 1.30021715, 1.31376108, 1.32730501, 1.34084894])"
            ]
          },
          "metadata": {},
          "execution_count": 168
        }
      ]
    },
    {
      "cell_type": "code",
      "source": [
        "sigmavals[2]**2"
      ],
      "metadata": {
        "colab": {
          "base_uri": "https://localhost:8080/"
        },
        "id": "BCSqELOn3Bax",
        "outputId": "82f30f88-7bed-45b2-c1a3-be113746b805"
      },
      "id": "BCSqELOn3Bax",
      "execution_count": 166,
      "outputs": [
        {
          "output_type": "execute_result",
          "data": {
            "text/plain": [
              "7.383382080915319"
            ]
          },
          "metadata": {},
          "execution_count": 166
        }
      ]
    },
    {
      "cell_type": "code",
      "source": [],
      "metadata": {
        "id": "DtN-HKYL3Q-K"
      },
      "id": "DtN-HKYL3Q-K",
      "execution_count": null,
      "outputs": []
    }
  ],
  "metadata": {
    "kernelspec": {
      "display_name": "Python 3 (ipykernel)",
      "language": "python",
      "name": "python3"
    },
    "language_info": {
      "codemirror_mode": {
        "name": "ipython",
        "version": 3
      },
      "file_extension": ".py",
      "mimetype": "text/x-python",
      "name": "python",
      "nbconvert_exporter": "python",
      "pygments_lexer": "ipython3",
      "version": "3.9.12"
    },
    "colab": {
      "provenance": []
    }
  },
  "nbformat": 4,
  "nbformat_minor": 5
}