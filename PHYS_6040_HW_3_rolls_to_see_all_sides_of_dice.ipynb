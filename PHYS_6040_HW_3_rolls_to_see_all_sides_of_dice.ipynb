{
  "nbformat": 4,
  "nbformat_minor": 0,
  "metadata": {
    "colab": {
      "provenance": [],
      "authorship_tag": "ABX9TyPQleaJAwZqze9b/aQqGhRQ",
      "include_colab_link": true
    },
    "kernelspec": {
      "name": "python3",
      "display_name": "Python 3"
    },
    "language_info": {
      "name": "python"
    }
  },
  "cells": [
    {
      "cell_type": "markdown",
      "metadata": {
        "id": "view-in-github",
        "colab_type": "text"
      },
      "source": [
        "<a href=\"https://colab.research.google.com/github/JorgePerezPHYS60/Phys6140-Homeworks/blob/main/PHYS_6040_HW_2.ipynb\" target=\"_parent\"><img src=\"https://colab.research.google.com/assets/colab-badge.svg\" alt=\"Open In Colab\"/></a>"
      ]
    },
    {
      "cell_type": "code",
      "execution_count": 35,
      "metadata": {
        "colab": {
          "base_uri": "https://localhost:8080/"
        },
        "id": "CJQvAtnncqRF",
        "outputId": "a883dbea-8318-440c-cfeb-8f5a191f8a7e"
      },
      "outputs": [
        {
          "output_type": "stream",
          "name": "stdout",
          "text": [
            "14.6997142\n"
          ]
        }
      ],
      "source": [
        "import math\n",
        "import numpy as np\n",
        "import random\n",
        "from matplotlib import pyplot\n",
        "\n",
        "reps=int(10e6) #repeat experiment reps times\n",
        "tries=[] #number of tries to see all six outcomes\n",
        "\n",
        "for num in range(reps):\n",
        "  count=0 #counts number of dice rolled\n",
        "  rolls=[1,2,3,4,5,6] #possible outcomes\n",
        "  while not not rolls:\n",
        "    roll=random.randint(1,6)\n",
        "    if roll in rolls:\n",
        "      rolls.remove(roll)\n",
        "      count+=1\n",
        "    else:\n",
        "      count+=1\n",
        "  tries.append(count)\n",
        "\n",
        "mean=sum(tries)/len(tries)\n",
        "print(mean)\n",
        "\n",
        "\n"
      ]
    }
  ]
}
